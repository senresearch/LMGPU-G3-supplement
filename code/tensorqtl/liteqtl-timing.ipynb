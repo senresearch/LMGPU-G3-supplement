{
 "cells": [
  {
   "cell_type": "code",
   "execution_count": null,
   "metadata": {},
   "outputs": [],
   "source": [
    "using Pkg \n",
    "Pkg.add(\"LiteQTL\")\n",
    "Pkg.add(\"CSV\")\n",
    "Pkg.add(\"DelimitedFiles\")\n",
    "Pkg.add(\"DataFrames\")"
   ]
  },
  {
   "cell_type": "code",
   "execution_count": null,
   "metadata": {},
   "outputs": [],
   "source": [
    "using LiteQTL \n",
    "using CSV \n",
    "using DelimitedFiles\n",
    "using DataFrames\n",
    "\n",
    "pheno_file = \"../../data/tensorqtldata/cleanpheno.csv\"\n",
    "geno_file = \"../../data/tensorqtldata/chr9.csv\"\n",
    "export_matrix = false\n",
    "\n",
    "@time pheno = LiteQTL.get_pheno_data(pheno_file, Float64, transposed=true)\n",
    "# 10.865656 seconds (47.21 M allocations: 1.625 GiB, 12.64% gc time)\n",
    "@time geno = CSV.read(geno_file, DataFrame)\n",
    "# 109.905806 seconds (41.48 M allocations: 46.943 GiB, 0.58% gc time)\n",
    "# @time genomat = convert(Matrix{Float32}, geno[:, 3:end]) |> transpose |> collect\n",
    "# geno = Nothing\n",
    "\n",
    "# pick out chr1 genos \n",
    "#genobychr = groupby(geno, :Column2)\n",
    "#onechr = genobychr[(Column2=\"9\",)]\n",
    "# Chr1: 5618644x447; \n",
    "# Chr2: 1738829; \n",
    "# Chr3: 919842; \n",
    "# Chr4: 944044; \n",
    "# Chr5: 820554; \n",
    "# Chr6: 849929\n",
    "# Chr7: 762694\n",
    "# Chr8: 719376\n",
    "# Chr9: 558963\n",
    "# ChrX: 436393\n",
    "\n",
    "# It takes about 60 seconds to do this step. \n",
    "datatype = Float64\n",
    "@time genomat = convert(Matrix{datatype}, geno[:, 3:end]) |> transpose |> collect\n",
    "pheno = convert(Matrix{datatype}, pheno)\n",
    "# gc\n",
    "#genobychr = Nothing; \n",
    "#geno = Nothing;\n",
    "#chr1geno = Nothing;\n",
    "\n",
    "LiteQTL.set_blas_threads(16);\n",
    "\n",
    "G = genomat;\n",
    "Y = pheno;\n",
    "\n",
    "#genomat = Nothing\n",
    "#pheno = Nothing \n",
    "\n",
    "n = size(Y,1)\n",
    "m = size(Y,2)\n",
    "p = size(G,2)\n",
    "println(\"******* Indivuduals n: $n, Traits m: $m, Markers p: $p ****************\");\n",
    "println(\"Calclating LOD takes: \")\n",
    "# @time lodc = LiteQTL.scan(Y, G,n;export_matrix=export_matrix);\n",
    "# Compilation of function\n",
    "lodg = LiteQTL.scan(Y, G,n;usegpu=true)\n",
    "# Time the function. \n",
    "@time lodg = LiteQTL.scan(Y, G,n;usegpu=true)\n"
   ]
  },
  {
   "cell_type": "code",
   "execution_count": null,
   "metadata": {},
   "outputs": [],
   "source": []
  },
  {
   "cell_type": "code",
   "execution_count": null,
   "metadata": {},
   "outputs": [],
   "source": []
  }
 ],
 "metadata": {
  "kernelspec": {
   "display_name": "Julia 1.5.3",
   "language": "julia",
   "name": "julia-1.5"
  },
  "language_info": {
   "file_extension": ".jl",
   "mimetype": "application/julia",
   "name": "julia",
   "version": "1.5.3"
  }
 },
 "nbformat": 4,
 "nbformat_minor": 4
}
