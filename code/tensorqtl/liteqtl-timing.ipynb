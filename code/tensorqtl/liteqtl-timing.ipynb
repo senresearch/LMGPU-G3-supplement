{
 "cells": [
  {
   "cell_type": "code",
   "execution_count": null,
   "metadata": {},
   "outputs": [],
   "source": [
    "# using Pkg \n",
    "# Pkg.add(\"LiteQTL\")\n",
    "# Pkg.add(\"CSV\")\n",
    "# Pkg.add(\"DelimitedFiles\")\n",
    "# Pkg.add(\"DataFrames\")"
   ]
  },
  {
   "cell_type": "code",
   "execution_count": 14,
   "metadata": {},
   "outputs": [],
   "source": [
    "using LiteQTL \n",
    "using CSV \n",
    "using DelimitedFiles\n",
    "using DataFrames\n",
    "using StatsBase"
   ]
  },
  {
   "cell_type": "code",
   "execution_count": 12,
   "metadata": {},
   "outputs": [
    {
     "data": {
      "text/plain": [
       "filter_maf (generic function with 1 method)"
      ]
     },
     "execution_count": 12,
     "metadata": {},
     "output_type": "execute_result"
    }
   ],
   "source": [
    "function filter_maf(genotype::Array{Float32, 2})\n",
    "    alleles = 2\n",
    "    maf_threshold = Float32(0.05)\n",
    "    \n",
    "    af = sum(genotype, dims=1) ./ (alleles * size(genotype, 1))\n",
    "    maf = replace(x -> x > 0.5 ? 1-x : x, af)\n",
    "\n",
    "    if maf_threshold > 0 \n",
    "        mask = getindex.(findall(maf .>= maf_threshold), 1)\n",
    "        genotype = genotype[:, mask]\n",
    "    end\n",
    "    return genotype\n",
    "end\n"
   ]
  },
  {
   "cell_type": "code",
   "execution_count": 13,
   "metadata": {},
   "outputs": [
    {
     "data": {
      "text/plain": [
       "calculate_r_tensor (generic function with 1 method)"
      ]
     },
     "execution_count": 13,
     "metadata": {},
     "output_type": "execute_result"
    }
   ],
   "source": [
    "function center_normalize(mat, dims=1)\n",
    "    newmat = mat .- mean(mat, dims=dims)\n",
    "    return newmat ./ sqrt.(sum(newmat.^2, dims=dims))\n",
    "end\n",
    "\n",
    "function calculate_r_tensor(geno, pheno; has_covar=false)\n",
    "    # remove mean from geno and pheno\n",
    "    if has_covar\n",
    "        pheno = pheno.mean(dims = 1) \n",
    "        geno = geno.mean(dims = 1)\n",
    "    end\n",
    "    return center_normalize(pheno, 1)' * center_normalize(geno, 1)\n",
    "end"
   ]
  },
  {
   "cell_type": "code",
   "execution_count": 5,
   "metadata": {},
   "outputs": [
    {
     "data": {
      "text/plain": [
       "get_standardized_matrix (generic function with 1 method)"
      ]
     },
     "execution_count": 5,
     "metadata": {},
     "output_type": "execute_result"
    }
   ],
   "source": [
    "\n",
    "function get_standardized_matrix_gpu(m::AbstractArray{<:Real,2})\n",
    "    return (m .- mean(m, dims=1)) ./ std(m, corrected=false, dims=1) \n",
    "end\n",
    "\n",
    "function get_standardized_matrix(mat::AbstractArray{<:Real,2})\n",
    "    m = mat\n",
    "    Threads.@threads for col in 1:size(m)[2]\n",
    "        summ = 0.0f0\n",
    "        rows = size(m)[1]\n",
    "        for row in 1:rows\n",
    "            summ += m[row, col]\n",
    "        end\n",
    "        mean = summ/rows\n",
    "        sums = 0.0f0\n",
    "        for row in 1:rows\n",
    "            sums += (m[row,col] - mean)^2\n",
    "        end\n",
    "        std = sqrt(sums/rows)\n",
    "        for row in 1:rows\n",
    "            m[row,col] = (m[row,col]-mean)/std\n",
    "        end\n",
    "    end\n",
    "    return m\n",
    "end"
   ]
  },
  {
   "cell_type": "code",
   "execution_count": 6,
   "metadata": {},
   "outputs": [
    {
     "name": "stdout",
     "output_type": "stream",
     "text": [
      "  6.731708 seconds (46.85 M allocations: 1.608 GiB, 14.59% gc time)\n",
      " 16.874454 seconds (18.57 M allocations: 2.988 GiB, 5.35% gc time)\n"
     ]
    },
    {
     "data": {
      "text/html": [
       "<table class=\"data-frame\"><thead><tr><th></th><th>ID</th><th>Column2</th><th>HG00096</th><th>HG00097</th><th>HG00099</th><th>HG00100</th><th>HG00101</th><th>HG00102</th></tr><tr><th></th><th>String</th><th>String</th><th>Int64</th><th>Int64</th><th>Int64</th><th>Int64</th><th>Int64</th><th>Int64</th></tr></thead><tbody><p>558,963 rows × 447 columns (omitted printing of 439 columns)</p><tr><th>1</th><td>chr9_10362_C_CT_b38</td><td>chr9</td><td>1</td><td>2</td><td>1</td><td>2</td><td>2</td><td>0</td></tr><tr><th>2</th><td>chr9_10469_G_C_b38</td><td>chr9</td><td>1</td><td>1</td><td>2</td><td>1</td><td>1</td><td>2</td></tr><tr><th>3</th><td>chr9_12704_C_T_b38</td><td>chr9</td><td>0</td><td>0</td><td>0</td><td>0</td><td>0</td><td>1</td></tr><tr><th>4</th><td>chr9_12705_C_T_b38</td><td>chr9</td><td>0</td><td>0</td><td>0</td><td>0</td><td>0</td><td>1</td></tr><tr><th>5</th><td>chr9_13962_T_C_b38</td><td>chr9</td><td>0</td><td>0</td><td>0</td><td>0</td><td>0</td><td>0</td></tr><tr><th>6</th><td>chr9_14690_C_G_b38</td><td>chr9</td><td>0</td><td>1</td><td>1</td><td>1</td><td>1</td><td>2</td></tr><tr><th>7</th><td>chr9_14816_C_G_b38</td><td>chr9</td><td>0</td><td>0</td><td>0</td><td>0</td><td>1</td><td>0</td></tr><tr><th>8</th><td>chr9_14889_A_G_b38</td><td>chr9</td><td>1</td><td>0</td><td>1</td><td>1</td><td>1</td><td>2</td></tr><tr><th>9</th><td>chr9_15883_A_G_b38</td><td>chr9</td><td>0</td><td>1</td><td>0</td><td>1</td><td>0</td><td>2</td></tr><tr><th>10</th><td>chr9_16918_G_C_b38</td><td>chr9</td><td>0</td><td>0</td><td>0</td><td>0</td><td>1</td><td>0</td></tr><tr><th>11</th><td>chr9_16920_G_C_b38</td><td>chr9</td><td>0</td><td>0</td><td>0</td><td>0</td><td>0</td><td>0</td></tr><tr><th>12</th><td>chr9_16934_G_A_b38</td><td>chr9</td><td>0</td><td>0</td><td>0</td><td>0</td><td>0</td><td>0</td></tr><tr><th>13</th><td>chr9_16967_A_G_b38</td><td>chr9</td><td>0</td><td>0</td><td>0</td><td>0</td><td>0</td><td>0</td></tr><tr><th>14</th><td>chr9_17060_C_A_b38</td><td>chr9</td><td>0</td><td>0</td><td>0</td><td>0</td><td>0</td><td>0</td></tr><tr><th>15</th><td>chr9_17107_T_C_b38</td><td>chr9</td><td>0</td><td>0</td><td>0</td><td>1</td><td>0</td><td>0</td></tr><tr><th>16</th><td>chr9_17115_G_C_b38</td><td>chr9</td><td>0</td><td>0</td><td>0</td><td>0</td><td>0</td><td>0</td></tr><tr><th>17</th><td>chr9_17333_A_G_b38</td><td>chr9</td><td>1</td><td>0</td><td>0</td><td>1</td><td>0</td><td>0</td></tr><tr><th>18</th><td>chr9_17517_C_T_b38</td><td>chr9</td><td>0</td><td>0</td><td>0</td><td>0</td><td>0</td><td>1</td></tr><tr><th>19</th><td>chr9_17614_CT_C_b38</td><td>chr9</td><td>1</td><td>2</td><td>2</td><td>1</td><td>1</td><td>2</td></tr><tr><th>20</th><td>chr9_27038_A_G_b38</td><td>chr9</td><td>0</td><td>0</td><td>0</td><td>0</td><td>0</td><td>0</td></tr><tr><th>21</th><td>chr9_28796_G_T_b38</td><td>chr9</td><td>0</td><td>0</td><td>0</td><td>0</td><td>0</td><td>0</td></tr><tr><th>22</th><td>chr9_38404_T_G_b38</td><td>chr9</td><td>2</td><td>2</td><td>2</td><td>2</td><td>2</td><td>2</td></tr><tr><th>23</th><td>chr9_38985_C_T_b38</td><td>chr9</td><td>0</td><td>0</td><td>0</td><td>0</td><td>0</td><td>0</td></tr><tr><th>24</th><td>chr9_39037_A_C_b38</td><td>chr9</td><td>1</td><td>2</td><td>1</td><td>1</td><td>1</td><td>2</td></tr><tr><th>25</th><td>chr9_39188_G_C_b38</td><td>chr9</td><td>1</td><td>0</td><td>1</td><td>1</td><td>0</td><td>0</td></tr><tr><th>26</th><td>chr9_39205_T_C_b38</td><td>chr9</td><td>0</td><td>1</td><td>0</td><td>1</td><td>1</td><td>0</td></tr><tr><th>27</th><td>chr9_39486_G_A_b38</td><td>chr9</td><td>0</td><td>0</td><td>0</td><td>0</td><td>0</td><td>0</td></tr><tr><th>28</th><td>chr9_39516_C_T_b38</td><td>chr9</td><td>2</td><td>0</td><td>1</td><td>1</td><td>1</td><td>1</td></tr><tr><th>29</th><td>chr9_39561_G_A_b38</td><td>chr9</td><td>0</td><td>0</td><td>0</td><td>0</td><td>0</td><td>0</td></tr><tr><th>30</th><td>chr9_39925_G_A_b38</td><td>chr9</td><td>0</td><td>2</td><td>0</td><td>1</td><td>1</td><td>0</td></tr><tr><th>&vellip;</th><td>&vellip;</td><td>&vellip;</td><td>&vellip;</td><td>&vellip;</td><td>&vellip;</td><td>&vellip;</td><td>&vellip;</td><td>&vellip;</td></tr></tbody></table>"
      ],
      "text/latex": [
       "\\begin{tabular}{r|ccccccccc}\n",
       "\t& ID & Column2 & HG00096 & HG00097 & HG00099 & HG00100 & HG00101 & HG00102 & \\\\\n",
       "\t\\hline\n",
       "\t& String & String & Int64 & Int64 & Int64 & Int64 & Int64 & Int64 & \\\\\n",
       "\t\\hline\n",
       "\t1 & chr9\\_10362\\_C\\_CT\\_b38 & chr9 & 1 & 2 & 1 & 2 & 2 & 0 & $\\dots$ \\\\\n",
       "\t2 & chr9\\_10469\\_G\\_C\\_b38 & chr9 & 1 & 1 & 2 & 1 & 1 & 2 & $\\dots$ \\\\\n",
       "\t3 & chr9\\_12704\\_C\\_T\\_b38 & chr9 & 0 & 0 & 0 & 0 & 0 & 1 & $\\dots$ \\\\\n",
       "\t4 & chr9\\_12705\\_C\\_T\\_b38 & chr9 & 0 & 0 & 0 & 0 & 0 & 1 & $\\dots$ \\\\\n",
       "\t5 & chr9\\_13962\\_T\\_C\\_b38 & chr9 & 0 & 0 & 0 & 0 & 0 & 0 & $\\dots$ \\\\\n",
       "\t6 & chr9\\_14690\\_C\\_G\\_b38 & chr9 & 0 & 1 & 1 & 1 & 1 & 2 & $\\dots$ \\\\\n",
       "\t7 & chr9\\_14816\\_C\\_G\\_b38 & chr9 & 0 & 0 & 0 & 0 & 1 & 0 & $\\dots$ \\\\\n",
       "\t8 & chr9\\_14889\\_A\\_G\\_b38 & chr9 & 1 & 0 & 1 & 1 & 1 & 2 & $\\dots$ \\\\\n",
       "\t9 & chr9\\_15883\\_A\\_G\\_b38 & chr9 & 0 & 1 & 0 & 1 & 0 & 2 & $\\dots$ \\\\\n",
       "\t10 & chr9\\_16918\\_G\\_C\\_b38 & chr9 & 0 & 0 & 0 & 0 & 1 & 0 & $\\dots$ \\\\\n",
       "\t11 & chr9\\_16920\\_G\\_C\\_b38 & chr9 & 0 & 0 & 0 & 0 & 0 & 0 & $\\dots$ \\\\\n",
       "\t12 & chr9\\_16934\\_G\\_A\\_b38 & chr9 & 0 & 0 & 0 & 0 & 0 & 0 & $\\dots$ \\\\\n",
       "\t13 & chr9\\_16967\\_A\\_G\\_b38 & chr9 & 0 & 0 & 0 & 0 & 0 & 0 & $\\dots$ \\\\\n",
       "\t14 & chr9\\_17060\\_C\\_A\\_b38 & chr9 & 0 & 0 & 0 & 0 & 0 & 0 & $\\dots$ \\\\\n",
       "\t15 & chr9\\_17107\\_T\\_C\\_b38 & chr9 & 0 & 0 & 0 & 1 & 0 & 0 & $\\dots$ \\\\\n",
       "\t16 & chr9\\_17115\\_G\\_C\\_b38 & chr9 & 0 & 0 & 0 & 0 & 0 & 0 & $\\dots$ \\\\\n",
       "\t17 & chr9\\_17333\\_A\\_G\\_b38 & chr9 & 1 & 0 & 0 & 1 & 0 & 0 & $\\dots$ \\\\\n",
       "\t18 & chr9\\_17517\\_C\\_T\\_b38 & chr9 & 0 & 0 & 0 & 0 & 0 & 1 & $\\dots$ \\\\\n",
       "\t19 & chr9\\_17614\\_CT\\_C\\_b38 & chr9 & 1 & 2 & 2 & 1 & 1 & 2 & $\\dots$ \\\\\n",
       "\t20 & chr9\\_27038\\_A\\_G\\_b38 & chr9 & 0 & 0 & 0 & 0 & 0 & 0 & $\\dots$ \\\\\n",
       "\t21 & chr9\\_28796\\_G\\_T\\_b38 & chr9 & 0 & 0 & 0 & 0 & 0 & 0 & $\\dots$ \\\\\n",
       "\t22 & chr9\\_38404\\_T\\_G\\_b38 & chr9 & 2 & 2 & 2 & 2 & 2 & 2 & $\\dots$ \\\\\n",
       "\t23 & chr9\\_38985\\_C\\_T\\_b38 & chr9 & 0 & 0 & 0 & 0 & 0 & 0 & $\\dots$ \\\\\n",
       "\t24 & chr9\\_39037\\_A\\_C\\_b38 & chr9 & 1 & 2 & 1 & 1 & 1 & 2 & $\\dots$ \\\\\n",
       "\t25 & chr9\\_39188\\_G\\_C\\_b38 & chr9 & 1 & 0 & 1 & 1 & 0 & 0 & $\\dots$ \\\\\n",
       "\t26 & chr9\\_39205\\_T\\_C\\_b38 & chr9 & 0 & 1 & 0 & 1 & 1 & 0 & $\\dots$ \\\\\n",
       "\t27 & chr9\\_39486\\_G\\_A\\_b38 & chr9 & 0 & 0 & 0 & 0 & 0 & 0 & $\\dots$ \\\\\n",
       "\t28 & chr9\\_39516\\_C\\_T\\_b38 & chr9 & 2 & 0 & 1 & 1 & 1 & 1 & $\\dots$ \\\\\n",
       "\t29 & chr9\\_39561\\_G\\_A\\_b38 & chr9 & 0 & 0 & 0 & 0 & 0 & 0 & $\\dots$ \\\\\n",
       "\t30 & chr9\\_39925\\_G\\_A\\_b38 & chr9 & 0 & 2 & 0 & 1 & 1 & 0 & $\\dots$ \\\\\n",
       "\t$\\dots$ & $\\dots$ & $\\dots$ & $\\dots$ & $\\dots$ & $\\dots$ & $\\dots$ & $\\dots$ & $\\dots$ &  \\\\\n",
       "\\end{tabular}\n"
      ],
      "text/plain": [
       "558963×447 DataFrame. Omitted printing of 442 columns\n",
       "│ Row    │ ID                     │ Column2 │ HG00096 │ HG00097 │ HG00099 │\n",
       "│        │ \u001b[90mString\u001b[39m                 │ \u001b[90mString\u001b[39m  │ \u001b[90mInt64\u001b[39m   │ \u001b[90mInt64\u001b[39m   │ \u001b[90mInt64\u001b[39m   │\n",
       "├────────┼────────────────────────┼─────────┼─────────┼─────────┼─────────┤\n",
       "│ 1      │ chr9_10362_C_CT_b38    │ chr9    │ 1       │ 2       │ 1       │\n",
       "│ 2      │ chr9_10469_G_C_b38     │ chr9    │ 1       │ 1       │ 2       │\n",
       "│ 3      │ chr9_12704_C_T_b38     │ chr9    │ 0       │ 0       │ 0       │\n",
       "│ 4      │ chr9_12705_C_T_b38     │ chr9    │ 0       │ 0       │ 0       │\n",
       "│ 5      │ chr9_13962_T_C_b38     │ chr9    │ 0       │ 0       │ 0       │\n",
       "│ 6      │ chr9_14690_C_G_b38     │ chr9    │ 0       │ 1       │ 1       │\n",
       "│ 7      │ chr9_14816_C_G_b38     │ chr9    │ 0       │ 0       │ 0       │\n",
       "│ 8      │ chr9_14889_A_G_b38     │ chr9    │ 1       │ 0       │ 1       │\n",
       "│ 9      │ chr9_15883_A_G_b38     │ chr9    │ 0       │ 1       │ 0       │\n",
       "│ 10     │ chr9_16918_G_C_b38     │ chr9    │ 0       │ 0       │ 0       │\n",
       "⋮\n",
       "│ 558953 │ chr9_138221925_G_A_b38 │ chr9    │ 0       │ 2       │ 2       │\n",
       "│ 558954 │ chr9_138231447_G_A_b38 │ chr9    │ 1       │ 1       │ 1       │\n",
       "│ 558955 │ chr9_138231562_T_A_b38 │ chr9    │ 1       │ 0       │ 1       │\n",
       "│ 558956 │ chr9_138231563_C_T_b38 │ chr9    │ 1       │ 0       │ 1       │\n",
       "│ 558957 │ chr9_138231567_G_C_b38 │ chr9    │ 1       │ 0       │ 1       │\n",
       "│ 558958 │ chr9_138232136_A_G_b38 │ chr9    │ 1       │ 1       │ 1       │\n",
       "│ 558959 │ chr9_138232251_T_A_b38 │ chr9    │ 0       │ 1       │ 1       │\n",
       "│ 558960 │ chr9_138232259_C_G_b38 │ chr9    │ 0       │ 1       │ 1       │\n",
       "│ 558961 │ chr9_138233797_A_G_b38 │ chr9    │ 0       │ 0       │ 1       │\n",
       "│ 558962 │ chr9_138233954_T_G_b38 │ chr9    │ 0       │ 0       │ 0       │\n",
       "│ 558963 │ chr9_138256233_C_G_b38 │ chr9    │ 1       │ 0       │ 0       │"
      ]
     },
     "execution_count": 6,
     "metadata": {},
     "output_type": "execute_result"
    }
   ],
   "source": [
    "pheno_file = \"../../data/tensorqtldata/cleanpheno.csv\"\n",
    "geno_file = \"../../data/tensorqtldata/chr9.csv\"\n",
    "export_matrix = false\n",
    "\n",
    "@time pheno = LiteQTL.get_pheno_data(pheno_file, Float64, transposed=true)\n",
    "# 10.865656 seconds (47.21 M allocations: 1.625 GiB, 12.64% gc time)\n",
    "@time geno = CSV.read(geno_file, DataFrame)"
   ]
  },
  {
   "cell_type": "code",
   "execution_count": 7,
   "metadata": {},
   "outputs": [
    {
     "name": "stdout",
     "output_type": "stream",
     "text": [
      "Number of threads using: 16\n"
     ]
    },
    {
     "data": {
      "text/plain": [
       "2973"
      ]
     },
     "execution_count": 7,
     "metadata": {},
     "output_type": "execute_result"
    }
   ],
   "source": [
    "datatype = Float32\n",
    "# Only taking the first 5000 to get the results right. \n",
    "genomat = convert(Matrix{datatype}, geno[1:5000,3:end])|> transpose |> collect;\n",
    "G = genomat\n",
    "G = filter_maf(genomat);\n",
    "\n",
    "Y = convert(Matrix{datatype}, pheno)\n",
    "\n",
    "LiteQTL.set_blas_threads(16);\n",
    "n = size(Y,1)\n",
    "m = size(Y,2)\n",
    "p = size(G,2)"
   ]
  },
  {
   "cell_type": "code",
   "execution_count": 8,
   "metadata": {},
   "outputs": [],
   "source": [
    "using LinearAlgebra\n",
    "using Distributions\n",
    "function pval_calc(corr, dof)\n",
    "    t = corr .* sqrt.(dof ./ (1 .- corr .^2)) \n",
    "    pval = 2 .* cdf(TDist(dof), convert(Matrix{Float64}, .-abs.(t)))\n",
    "    return pval\n",
    "end\n",
    "println(\"******* Indivuduals n: $n, Traits m: $m, Markers p: $p ****************\");\n",
    "# @time pvalc = LiteQTL.scan(Y, G,n;desiredoutput=\"pval\");\n",
    "    pheno_std = LiteQTL.get_standardized_matrix(Y)\n",
    "    geno_std = LiteQTL.get_standardized_matrix(G);\n",
    "    #step 2: calculate R, matrix of corelation coefficients"
   ]
  },
  {
   "cell_type": "code",
   "execution_count": 10,
   "metadata": {},
   "outputs": [
    {
     "data": {
      "text/plain": [
       "19836×2973 Array{Float32,2}:\n",
       "  0.0231216    0.0231216    0.0231216   …   0.0231216    0.0231216\n",
       "  0.0380106    0.0380106    0.0380106       0.0380106    0.0380106\n",
       "  0.035366     0.035366     0.035366        0.035366     0.035366\n",
       "  0.0237418    0.0237418    0.0237418       0.0237418    0.0237418\n",
       "  0.0595481    0.0595481    0.0595481       0.0595481    0.0595481\n",
       "  0.116488     0.116488     0.116488    …   0.116488     0.116488\n",
       " -0.0231122   -0.0231122   -0.0231122      -0.0231122   -0.0231122\n",
       "  0.0103261    0.0103261    0.0103261       0.0103261    0.0103261\n",
       " -0.0145501   -0.0145501   -0.0145501      -0.0145501   -0.0145501\n",
       "  0.137013     0.137013     0.137013        0.137013     0.137013\n",
       " -0.00798412  -0.00798412  -0.00798412  …  -0.00798412  -0.00798412\n",
       "  0.0362904    0.0362904    0.0362904       0.0362904    0.0362904\n",
       "  0.0372887    0.0372887    0.0372887       0.0372887    0.0372887\n",
       "  ⋮                                     ⋱               \n",
       " -0.0808512   -0.0808512   -0.0808512      -0.0808512   -0.0808512\n",
       " -0.151932    -0.151932    -0.151932    …  -0.151932    -0.151932\n",
       " -0.0377543   -0.0377543   -0.0377543      -0.0377543   -0.0377543\n",
       " -0.0291253   -0.0291253   -0.0291253      -0.0291253   -0.0291253\n",
       " -0.090315    -0.090315    -0.090315       -0.090315    -0.090315\n",
       " -0.00198415  -0.00198415  -0.00198415     -0.00198415  -0.00198415\n",
       " -0.101058    -0.101058    -0.101058    …  -0.101058    -0.101058\n",
       " -0.0182921   -0.0182921   -0.0182921      -0.0182921   -0.0182921\n",
       " -0.055769    -0.055769    -0.055769       -0.055769    -0.055769\n",
       " -0.0780651   -0.0780651   -0.0780651      -0.0780651   -0.0780651\n",
       " -0.00542878  -0.00542878  -0.00542878     -0.00542878  -0.00542878\n",
       "  0.0595783    0.0595783    0.0595783   …   0.0595783    0.0595783"
      ]
     },
     "execution_count": 10,
     "metadata": {},
     "output_type": "execute_result"
    }
   ],
   "source": [
    "#     r = LinearAlgebra.BLAS.gemm('T', 'N', pheno_std,geno_std);\n",
    "#     pval = pval_calc(r./n, n-2)\n",
    "\n",
    "r_t = calculate_r_tensor(G, Y)"
   ]
  },
  {
   "cell_type": "code",
   "execution_count": 9,
   "metadata": {},
   "outputs": [
    {
     "data": {
      "text/plain": [
       "19836×2973 Array{Float32,2}:\n",
       "  10.2891     10.2891     10.2891    …   10.2891     10.2891     10.2891\n",
       "  16.9147     16.9147     16.9147        16.9147     16.9147     16.9147\n",
       "  15.7379     15.7379     15.7379        15.7379     15.7379     15.7379\n",
       "  10.5651     10.5651     10.5651        10.5651     10.5651     10.5651\n",
       "  26.499      26.499      26.499         26.499      26.499      26.499\n",
       "  51.8372     51.8372     51.8372    …   51.8372     51.8372     51.8372\n",
       " -10.285     -10.285     -10.285        -10.285     -10.285     -10.285\n",
       "   4.59511     4.59511     4.59511        4.59511     4.59511     4.59511\n",
       "  -6.47482    -6.47482    -6.47482       -6.47482    -6.47482    -6.47482\n",
       "  60.9708     60.9708     60.9708        60.9708     60.9708     60.9708\n",
       "  -3.55294    -3.55294    -3.55294   …   -3.55294    -3.55294    -3.55294\n",
       "  16.1493     16.1493     16.1493        16.1493     16.1493     16.1493\n",
       "  16.5935     16.5935     16.5935        16.5935     16.5935     16.5935\n",
       "   ⋮                                 ⋱    ⋮                     \n",
       " -35.9789    -35.9789    -35.9789       -35.9789    -35.9789    -35.9789\n",
       " -67.6097    -67.6097    -67.6097    …  -67.6097    -67.6097    -67.6097\n",
       " -16.8007    -16.8007    -16.8007       -16.8007    -16.8007    -16.8007\n",
       " -12.9608    -12.9608    -12.9608       -12.9608    -12.9608    -12.9608\n",
       " -40.1903    -40.1903    -40.1903       -40.1903    -40.1903    -40.1903\n",
       "  -0.882949   -0.882949   -0.882949      -0.882949   -0.882949   -0.882949\n",
       " -44.971     -44.971     -44.971     …  -44.971     -44.971     -44.971\n",
       "  -8.14001    -8.14001    -8.14001       -8.14001    -8.14001    -8.14001\n",
       " -24.8173    -24.8173    -24.8173       -24.8173    -24.8173    -24.8173\n",
       " -34.7391    -34.7391    -34.7391       -34.7391    -34.7391    -34.7391\n",
       "  -2.4158     -2.4158     -2.4158        -2.4158     -2.4158     -2.4158\n",
       "  26.5124     26.5124     26.5124    …   26.5124     26.5124     26.5124"
      ]
     },
     "execution_count": 9,
     "metadata": {},
     "output_type": "execute_result"
    }
   ],
   "source": [
    "r"
   ]
  },
  {
   "cell_type": "code",
   "execution_count": 104,
   "metadata": {},
   "outputs": [],
   "source": [
    "writedlm(\"julia-scan-pval-result-cpu.csv\", pval, ',')"
   ]
  },
  {
   "cell_type": "code",
   "execution_count": 24,
   "metadata": {},
   "outputs": [
    {
     "name": "stderr",
     "output_type": "stream",
     "text": [
      "┌ Info: Running genome scan with covariates...\n",
      "└ @ Main In[23]:9\n"
     ]
    },
    {
     "ename": "LoadError",
     "evalue": "\u001b[91mDomainError with -419.41174:\u001b[39m\n\u001b[91msqrt will only return a complex result if called with a complex argument. Try sqrt(Complex(x)).\u001b[39m",
     "output_type": "error",
     "traceback": [
      "\u001b[91mDomainError with -419.41174:\u001b[39m\n\u001b[91msqrt will only return a complex result if called with a complex argument. Try sqrt(Complex(x)).\u001b[39m",
      "",
      "Stacktrace:",
      " [1] throw_complex_domainerror(::Symbol, ::Float32) at ./math.jl:33",
      " [2] sqrt at ./math.jl:573 [inlined]",
      " [3] _broadcast_getindex_evalf at ./broadcast.jl:648 [inlined]",
      " [4] _broadcast_getindex at ./broadcast.jl:621 [inlined]",
      " [5] _getindex at ./broadcast.jl:645 [inlined]",
      " [6] _getindex at ./broadcast.jl:644 [inlined]",
      " [7] _broadcast_getindex at ./broadcast.jl:620 [inlined]",
      " [8] getindex at ./broadcast.jl:575 [inlined]",
      " [9] macro expansion at ./broadcast.jl:932 [inlined]",
      " [10] macro expansion at ./simdloop.jl:77 [inlined]",
      " [11] copyto! at ./broadcast.jl:931 [inlined]",
      " [12] copyto! at ./broadcast.jl:886 [inlined]",
      " [13] copy at ./broadcast.jl:862 [inlined]",
      " [14] materialize at ./broadcast.jl:837 [inlined]",
      " [15] calculate_pval(::Array{Float32,2}, ::Int64) at ./In[23]:5",
      " [16] cpurun_pval(::Array{Float32,2}, ::Array{Float32,2}, ::Array{Float32,2}, ::Int64) at ./In[23]:20",
      " [17] top-level scope at ./timing.jl:233 [inlined]",
      " [18] top-level scope at ./In[24]:0",
      " [19] include_string(::Function, ::Module, ::String, ::String) at ./loading.jl:1091"
     ]
    }
   ],
   "source": [
    "covarfile = \"../../data/tensorqtldata/covariates.csv\"\n",
    "covar = CSV.read(covarfile, DataFrame)\n",
    "X = convert(Matrix{datatype}, covar[:, 2:end])|> collect\n",
    "ccovartime = @elapsed lodccovar = cpurun_pval(Y, G,n); \n",
    "println(\"###### Running genome scan with covariates on CPU. It takes $ccovartime seconds.\")\n"
   ]
  },
  {
   "cell_type": "markdown",
   "metadata": {},
   "source": [
    "# Compare TensorQTL result with Julia results:"
   ]
  },
  {
   "cell_type": "code",
   "execution_count": 31,
   "metadata": {},
   "outputs": [
    {
     "data": {
      "text/plain": [
       "lod2p (generic function with 1 method)"
      ]
     },
     "execution_count": 31,
     "metadata": {},
     "output_type": "execute_result"
    }
   ],
   "source": [
    "using Distributions\n",
    "\n",
    "function lod2p(lod)\n",
    "    return 1-cdf(Chisq(1),2*log(10)*lod)\n",
    "end\n"
   ]
  },
  {
   "cell_type": "code",
   "execution_count": 33,
   "metadata": {},
   "outputs": [
    {
     "data": {
      "text/plain": [
       "lod2p_t (generic function with 1 method)"
      ]
     },
     "execution_count": 33,
     "metadata": {},
     "output_type": "execute_result"
    }
   ],
   "source": [
    "# function lod2p_t(lod)\n",
    "#  #     2*stats.t.cdf(-np.abs(res[:,2].astype(np.float64)), dof)\n",
    "#     return 2*cdf(-abs(lod), 443)\n",
    "# end\n"
   ]
  },
  {
   "cell_type": "code",
   "execution_count": 32,
   "metadata": {},
   "outputs": [
    {
     "data": {
      "text/plain": [
       "19836×2973 Array{Float64,2}:\n",
       " 0.945837     0.607716   0.965386   …  0.784354    0.375033   0.904561\n",
       " 0.53219      0.945837   0.531327      0.569022    0.7854     0.53116\n",
       " 0.843569     0.50822    0.316663      0.314893    0.58288    0.216026\n",
       " 0.917756     0.598869   0.472334      0.786226    0.027881   0.705929\n",
       " 0.49689      0.872629   0.241008      0.689919    0.783796   0.542842\n",
       " 0.033929     0.175864   0.832859   …  0.251743    0.723309   0.00156157\n",
       " 0.362728     0.712468   0.113152      0.556503    0.222181   0.0684491\n",
       " 0.216658     0.149225   0.060917      0.593555    0.127336   0.366964\n",
       " 0.24901      0.678585   0.718666      0.270585    0.725623   0.27695\n",
       " 0.0876143    0.980295   0.0506659     0.622733    0.36282    0.383734\n",
       " 0.590117     0.273396   0.500991   …  0.931447    0.974016   0.68943\n",
       " 0.957713     0.784503   0.269852      0.336887    0.547713   0.115396\n",
       " 0.945219     0.0551429  0.61055       0.110421    0.0678688  0.128677\n",
       " ⋮                                  ⋱  ⋮                      \n",
       " 0.319867     0.71121    0.902911      0.679218    0.878846   0.876535\n",
       " 0.000301827  0.284665   0.0763017  …  0.40186     0.197098   0.264478\n",
       " 0.108079     0.141677   0.297212      0.856086    0.841844   0.924788\n",
       " 0.400202     0.750014   0.656669      0.69602     0.942374   0.924788\n",
       " 0.00670275   0.162395   0.140454      0.613395    0.319256   0.940507\n",
       " 0.592439     0.992883   0.57883       0.755061    1.0        0.335561\n",
       " 0.577134     0.63543    0.518494   …  0.555489    0.515605   0.626921\n",
       " 0.237175     0.916945   0.260962      0.362666    0.127392   0.714219\n",
       " 0.58805      0.0883527  0.544801      0.514131    0.820225   0.480672\n",
       " 0.92248      0.65975    0.100417      0.639795    0.949873   0.553338\n",
       " 0.101955     0.0791812  0.316747      0.00727836  0.0529997  0.179631\n",
       " 0.357288     0.168806   0.917654   …  0.791449    0.688599   0.17164"
      ]
     },
     "execution_count": 32,
     "metadata": {},
     "output_type": "execute_result"
    }
   ],
   "source": [
    "pval_l = lod2p.(lodccovar)\n",
    "# liteqtlmax = findmin(liteqtlPval, dims=2)"
   ]
  },
  {
   "cell_type": "code",
   "execution_count": 35,
   "metadata": {},
   "outputs": [
    {
     "data": {
      "text/plain": [
       "19836×2973 Array{Float32,2}:\n",
       " 0.990758    0.611896    0.970363   …  0.730864  0.382903   0.928904\n",
       " 0.423134    0.823357    0.425833      0.603637  0.837256   0.560778\n",
       " 0.301987    0.781228    0.750803      0.624281  0.952246   0.340729\n",
       " 0.213508    0.387647    0.761877      0.624428  0.148229   0.998873\n",
       " 0.544251    0.69275     0.148259      0.605067  0.863238   0.582601\n",
       " 0.0664546   0.345588    0.779216   …  0.120389  0.966949   0.000987737\n",
       " 0.402974    0.832394    0.11384       0.624529  0.24785    0.0827098\n",
       " 0.745057    0.603211    0.676384      0.538847  0.78497    0.143091\n",
       " 0.255553    0.757943    0.79813       0.213193  0.624878   0.263287\n",
       " 0.135674    0.564071    0.0778246     0.428325  0.196052   0.320616\n",
       " 0.530019    0.195718    0.439646   …  0.944211  0.990419   0.687181\n",
       " 0.909762    0.918615    0.292248      0.379312  0.616055   0.135457\n",
       " 0.701933    0.00599316  0.387709      0.147642  0.0899981  0.163074\n",
       " ⋮                                  ⋱  ⋮                    \n",
       " 0.30329     0.579396    0.953146      0.706948  0.82286    0.85818\n",
       " 0.00132687  0.828424    0.242015   …  0.752584  0.467789   0.405092\n",
       " 0.386515    0.580674    0.801476      0.409942  0.600805   0.831901\n",
       " 0.424586    0.83924     0.720909      0.75568   0.973758   0.962131\n",
       " 0.0174153   0.399055    0.314006      0.931151  0.116501   0.890535\n",
       " 0.167922    0.301771    0.167509      0.833777  0.535609   0.227111\n",
       " 0.793217    0.290841    0.286153   …  0.713921  0.329106   0.550476\n",
       " 0.541019    0.41422     0.578414      0.643522  0.28945    0.897965\n",
       " 0.108908    0.455665    0.763761      0.99818   0.301394   0.712651\n",
       " 0.630611    0.801556    0.0162594     0.934034  0.592704   0.696644\n",
       " 0.617902    0.331589    0.241302      0.222234  0.823879   0.568411\n",
       " 0.361381    0.0681464   0.822708   …  0.843189  0.606859   0.190672"
      ]
     },
     "execution_count": 35,
     "metadata": {},
     "output_type": "execute_result"
    }
   ],
   "source": [
    "tensorqtlres = CSV.read(\"tensorqtl-scan-covar.csv\", DataFrame)\n",
    "pval_t = convert(Matrix{datatype}, tensorqtlres[:, 2:end]) |> transpose |> collect\n",
    "# tensorqtlmax = findmin(mat, dims=2)"
   ]
  },
  {
   "cell_type": "code",
   "execution_count": 37,
   "metadata": {},
   "outputs": [
    {
     "data": {
      "text/plain": [
       "19836×2973 Array{Float32,2}:\n",
       " 0.00403254  0.213323   0.0130659  …  0.136164    0.416911    0.0320289\n",
       " 0.373522    0.0844118  0.37076       0.219224    0.0771418   0.251209\n",
       " 0.520011    0.107222   0.124474      0.20462     0.0212508   0.46759\n",
       " 0.670586    0.411563   0.118115      0.204518    0.829068    0.000489806\n",
       " 0.264201    0.159423   0.828979      0.218197    0.0638696   0.234629\n",
       " 1.17747     0.461442   0.108342   …  0.919412    0.0145965   3.00536\n",
       " 0.394723    0.0796709  0.943707      0.204448    0.60581     1.08244\n",
       " 0.127811    0.219531   0.169806      0.268535    0.105147    0.844389\n",
       " 0.59252     0.120363   0.0979264     0.671227    0.204205    0.579571\n",
       " 0.867504    0.248666   1.10888       0.368227    0.70763     0.494015\n",
       " 0.275708    0.70837    0.356897   …  0.0249308   0.00418121  0.162929\n",
       " 0.041072    0.0368664  0.534249      0.421003    0.210381    0.8682\n",
       " 0.153705    2.22234    0.411494      0.83079     1.04577     0.787614\n",
       " ⋮                                 ⋱  ⋮                       \n",
       " 0.518142    0.237025   0.0208406     0.150613    0.0846739   0.0664217\n",
       " 2.87717     0.0817473  0.616158   …  0.123445    0.32995     0.392446\n",
       " 0.412833    0.236068   0.0961094     0.387278    0.221267    0.0799282\n",
       " 0.372035    0.0761141  0.14212       0.121662    0.011549    0.016766\n",
       " 1.75907     0.398967   0.503062      0.0309799   0.933672    0.0503492\n",
       " 0.774893    0.520322   0.775961      0.0789499   0.271152    0.643763\n",
       " 0.100608    0.536344   0.543402   …  0.14635     0.482664    0.259261\n",
       " 0.266787    0.382769   0.237761      0.191437    0.538427    0.0467406\n",
       " 0.962938    0.341354   0.117042      0.00079133  0.520865    0.147123\n",
       " 0.200238    0.0960662  1.7889        0.0296374   0.227162    0.156989\n",
       " 0.209081    0.4794     0.61744       0.65319     0.0841366   0.245338\n",
       " 0.442035    1.16656    0.0847545  …  0.0740751   0.216912    0.719714"
      ]
     },
     "execution_count": 37,
     "metadata": {},
     "output_type": "execute_result"
    }
   ],
   "source": [
    "pval_t = -log10.(pval_t)"
   ]
  },
  {
   "cell_type": "code",
   "execution_count": 48,
   "metadata": {},
   "outputs": [
    {
     "name": "stderr",
     "output_type": "stream",
     "text": [
      "\u001b[32m\u001b[1m  Resolving\u001b[22m\u001b[39m package versions...\n",
      "\u001b[32m\u001b[1m  Installed\u001b[22m\u001b[39m PyPlot ─ v2.9.0\n",
      "\u001b[32m\u001b[1m  Installed\u001b[22m\u001b[39m PyCall ─ v1.92.2\n",
      "\u001b[32m\u001b[1mUpdating\u001b[22m\u001b[39m `~/.julia/environments/v1.5/Project.toml`\n",
      " \u001b[90m [d330b81b] \u001b[39m\u001b[92m+ PyPlot v2.9.0\u001b[39m\n",
      "\u001b[32m\u001b[1mUpdating\u001b[22m\u001b[39m `~/.julia/environments/v1.5/Manifest.toml`\n",
      " \u001b[90m [438e738f] \u001b[39m\u001b[92m+ PyCall v1.92.2\u001b[39m\n",
      " \u001b[90m [d330b81b] \u001b[39m\u001b[92m+ PyPlot v2.9.0\u001b[39m\n",
      "\u001b[32m\u001b[1m   Building\u001b[22m\u001b[39m PyCall → `~/.julia/packages/PyCall/tqyST/deps/build.log`\n"
     ]
    }
   ],
   "source": [
    "# import Pkg; Pkg.add(\"Plots\")\n",
    "# using Plots\n",
    "import Pkg; Pkg.add(\"PyPlot\")\n",
    "# Pkg.add(\"Gadfly\")"
   ]
  },
  {
   "cell_type": "code",
   "execution_count": 52,
   "metadata": {},
   "outputs": [
    {
     "data": {
      "image/png": "[encoded data removed]"
     },
     "execution_count": 52,
     "metadata": {},
     "output_type": "execute_result"
    }
   ],
   "source": [
    "pyplot()\n",
    "max = maximum(vcat(pval_l[:,1], pval_t[:,1]))\n",
    "x=collect(0:max)\n",
    "scatter(pval_l[:,1],xlims=(0,max),ylims=(0,max),xlab=\"your logp\")\n",
    "scatter!(pval_t[:,1],label=\"labe\")\n",
    "plot!(x,x,linecolor=:black,label=\"y=x\")"
   ]
  },
  {
   "cell_type": "code",
   "execution_count": 6,
   "metadata": {},
   "outputs": [
    {
     "data": {
      "text/plain": [
       "filter_maf (generic function with 1 method)"
      ]
     },
     "execution_count": 6,
     "metadata": {},
     "output_type": "execute_result"
    }
   ],
   "source": [
    "# function calculate_maf(genotype, alleles=2)\n",
    "#     af_t = sum(genotype, dims=2) ./ (alleles * size(genotype, 2))\n",
    "#     return replace(x -> x > 0.5 ? 1-x : x, af_t)\n",
    "# end\n",
    "# function filter_maf(genotype,maf_threshold)\n",
    "#     maf = calculate_maf(genotype)\n",
    "#     if maf_threshold > 0 \n",
    "#         mask = maf >= maf_threshold\n",
    "#         genotype = genotype[mask]\n",
    "# #         variant_ids = variant_id[masks]\n",
    "#         maf = maf[mask]\n",
    "#     end\n",
    "#     return genotype, maf\n",
    "# end\n",
    "\n",
    "# def filter_maf(genotype_t, variant_ids, maf_threshold):\n",
    "#     # \"\"\"Calculate minor allele frequency\"\"\"\n",
    "#     af_t = genotype_t.sum(1) / (alleles * genotype_t.shape[1])\n",
    "#     maf_t = torch.where(af_t > 0.5, 1 - af_t, af_t)\n",
    "#     # \"\"\"Calculate MAF and filter genotypes that don't pass threshold\"\"\"\n",
    "#     if maf_threshold > 0:\n",
    "#         mask_t = maf_t >= maf_threshold\n",
    "#         genotypes_t = genotypes_t[mask_t]\n",
    "#         variant_ids = variant_ids[mask_t.cpu().numpy().astype(bool)]\n",
    "#         maf_t = maf_t[mask_t]\n",
    "#     return genotypes_t, variant_ids,  maf_t\n"
   ]
  }
 ],
 "metadata": {
  "kernelspec": {
   "display_name": "Julia 1.5.3",
   "language": "julia",
   "name": "julia-1.5"
  },
  "language_info": {
   "file_extension": ".jl",
   "mimetype": "application/julia",
   "name": "julia",
   "version": "1.5.3"
  }
 },
 "nbformat": 4,
 "nbformat_minor": 4
}
