{
 "cells": [
  {
   "cell_type": "markdown",
   "id": "proper-payment",
   "metadata": {},
   "source": [
    "TensorQTL uses T Distributions when calculating P value. \n",
    "LiteQTL calculates LOD score. \n",
    "So the purpose of this notebook is to convert the output of LiteQTL from LOD score to P value. \n",
    "And make comparison, to see if results agree."
   ]
  },
  {
   "cell_type": "code",
   "execution_count": 15,
   "id": "center-eight",
   "metadata": {},
   "outputs": [],
   "source": [
    "using Distributions"
   ]
  },
  {
   "cell_type": "code",
   "execution_count": 1,
   "id": "treated-ability",
   "metadata": {},
   "outputs": [],
   "source": [
    "using DelimitedFiles \n",
    "using Distributions"
   ]
  },
  {
   "cell_type": "code",
   "execution_count": 2,
   "id": "korean-courage",
   "metadata": {},
   "outputs": [
    {
     "data": {
      "text/plain": [
       "2974×19837 Array{Any,2}:\n",
       " \"variant_id\"              \"ENSG00000227232.5\"  …   \"ENSG00000182484.15\"\n",
       " \"chr9_10362_C_CT_b38\"    0.626653                 0.209702\n",
       " \"chr9_10469_G_C_b38\"     0.331559                 0.356387\n",
       " \"chr9_14690_C_G_b38\"     0.196573                 0.334393\n",
       " \"chr9_14889_A_G_b38\"     0.000198589              0.574056\n",
       " \"chr9_15883_A_G_b38\"     0.514378              …  0.159159\n",
       " \"chr9_16934_G_A_b38\"     0.921802                 0.279384\n",
       " \"chr9_16967_A_G_b38\"     0.00620114               0.626413\n",
       " \"chr9_17107_T_C_b38\"     0.871817                 0.596388\n",
       " \"chr9_17115_G_C_b38\"     4.44153e-5               0.607573\n",
       " \"chr9_17333_A_G_b38\"     6.73954e-5            …  0.439791\n",
       " \"chr9_17517_C_T_b38\"     0.172699                 0.11458\n",
       " \"chr9_17614_CT_C_b38\"    0.00224832               0.803634\n",
       " ⋮                                              ⋱  \n",
       " \"chr9_683402_C_T_b38\"    0.20921                  0.254453\n",
       " \"chr9_683423_T_C_b38\"    4.06184e-8               0.000480425\n",
       " \"chr9_683430_C_T_b38\"    4.70842e-8               0.000521504\n",
       " \"chr9_684096_G_C_b38\"    6.97634e-5            …  0.0928943\n",
       " \"chr9_684160_G_A_b38\"    9.95681e-8               0.000363828\n",
       " \"chr9_684179_C_T_b38\"    2.74533e-6               0.36665\n",
       " \"chr9_684711_A_AT_b38\"   0.978772                 0.36869\n",
       " \"chr9_684904_C_CA_b38\"   3.23188e-6               0.00169287\n",
       " \"chr9_685396_TGA_T_b38\"  0.00078115            …  0.113806\n",
       " \"chr9_685819_C_A_b38\"    0.250311                 0.561032\n",
       " \"chr9_685902_A_G_b38\"    0.0346702                0.354915\n",
       " \"chr9_686170_C_A_b38\"    0.125384                 0.117761"
      ]
     },
     "execution_count": 2,
     "metadata": {},
     "output_type": "execute_result"
    }
   ],
   "source": [
    "pyresult = readdlm(\"tensorqtl-scan-covar.csv\", ',')"
   ]
  },
  {
   "cell_type": "code",
   "execution_count": 3,
   "id": "virgin-motor",
   "metadata": {},
   "outputs": [
    {
     "data": {
      "text/plain": [
       "19836×2973 Array{Float64,2}:\n",
       " 0.626652    0.626652    0.626652    …  0.626652    0.626652    0.626652\n",
       " 0.423787    0.423787    0.423787       0.423787    0.423787    0.423787\n",
       " 0.456766    0.456766    0.456766       0.456766    0.456766    0.456766\n",
       " 0.617429    0.617429    0.617429       0.617429    0.617429    0.617429\n",
       " 0.209932    0.209932    0.209932       0.209932    0.209932    0.209932\n",
       " 0.0139409   0.0139409   0.0139409   …  0.0139409   0.0139409   0.0139409\n",
       " 0.626792    0.626792    0.626792       0.626792    0.626792    0.626792\n",
       " 0.828035    0.828035    0.828035       0.828035    0.828035    0.828035\n",
       " 0.759537    0.759537    0.759537       0.759537    0.759537    0.759537\n",
       " 0.00378155  0.00378155  0.00378155     0.00378155  0.00378155  0.00378155\n",
       " 0.866619    0.866619    0.866619    …  0.866619    0.866619    0.866619\n",
       " 0.445077    0.445077    0.445077       0.445077    0.445077    0.445077\n",
       " 0.432648    0.432648    0.432648       0.432648    0.432648    0.432648\n",
       " ⋮                                   ⋱  ⋮                       \n",
       " 0.0884644   0.0884644   0.0884644      0.0884644   0.0884644   0.0884644\n",
       " 0.00130592  0.00130592  0.00130592  …  0.00130592  0.00130592  0.00130592\n",
       " 0.426921    0.426921    0.426921       0.426921    0.426921    0.426921\n",
       " 0.540007    0.540007    0.540007       0.540007    0.540007    0.540007\n",
       " 0.0569448   0.0569448   0.0569448      0.0569448   0.0569448   0.0569448\n",
       " 0.966707    0.966707    0.966707       0.966707    0.966707    0.966707\n",
       " 0.0330652   0.0330652   0.0330652   …  0.0330652   0.0330652   0.0330652\n",
       " 0.70037     0.70037     0.70037        0.70037     0.70037     0.70037\n",
       " 0.240373    0.240373    0.240373       0.240373    0.240373    0.240373\n",
       " 0.100038    0.100038    0.100038       0.100038    0.100038    0.100038\n",
       " 0.90908     0.90908     0.90908        0.90908     0.90908     0.90908\n",
       " 0.209701    0.209701    0.209701    …  0.209701    0.209701    0.209701"
      ]
     },
     "execution_count": 3,
     "metadata": {},
     "output_type": "execute_result"
    }
   ],
   "source": [
    "jucresult = readdlm(\"julia-scan-pval-result-cpu.csv\", ',')"
   ]
  },
  {
   "cell_type": "code",
   "execution_count": 15,
   "id": "whole-donor",
   "metadata": {},
   "outputs": [
    {
     "ename": "LoadError",
     "evalue": "\u001b[91mInterruptException:\u001b[39m",
     "output_type": "error",
     "traceback": [
      "\u001b[91mInterruptException:\u001b[39m",
      "",
      "Stacktrace:",
      " [1] iterate(::LinearAlgebra.Transpose{Any,Array{Any,2}}, ::Tuple{CartesianIndices{2,Tuple{Base.OneTo{Int64},Base.OneTo{Int64}}},CartesianIndex{2}}) at ./abstractarray.jl:986",
      " [2] copyto_unaliased!(::IndexLinear, ::Array{Float64,2}, ::IndexCartesian, ::LinearAlgebra.Transpose{Any,Array{Any,2}}) at ./abstractarray.jl:866",
      " [3] copyto! at ./abstractarray.jl:840 [inlined]",
      " [4] copyto_axcheck!(::Array{Float64,2}, ::LinearAlgebra.Transpose{Any,Array{Any,2}}) at ./abstractarray.jl:946",
      " [5] Array at ./array.jl:562 [inlined]",
      " [6] convert(::Type{Array{Float64,2}}, ::LinearAlgebra.Transpose{Any,Array{Any,2}}) at ./array.jl:554",
      " [7] top-level scope at In[15]:1",
      " [8] include_string(::Function, ::Module, ::String, ::String) at ./loading.jl:1091"
     ]
    }
   ],
   "source": [
    "pyp = convert(Matrix{Float64}, transpose(pyresult[2:end, 2:end]))"
   ]
  },
  {
   "cell_type": "code",
   "execution_count": 19,
   "id": "painful-latvia",
   "metadata": {},
   "outputs": [
    {
     "data": {
      "text/plain": [
       "true"
      ]
     },
     "execution_count": 19,
     "metadata": {},
     "output_type": "execute_result"
    }
   ],
   "source": [
    "sum(isapprox.(jucresult[1:99, 1], pyp[1:99, 1], atol=1e-3)) == 99"
   ]
  },
  {
   "cell_type": "code",
   "execution_count": 18,
   "id": "solved-mount",
   "metadata": {},
   "outputs": [
    {
     "data": {
      "text/plain": [
       "99×99 Array{Float64,2}:\n",
       " 0.626652    0.626652    0.626652    …  0.626652    0.626652    0.626652\n",
       " 0.423787    0.423787    0.423787       0.423787    0.423787    0.423787\n",
       " 0.456766    0.456766    0.456766       0.456766    0.456766    0.456766\n",
       " 0.617429    0.617429    0.617429       0.617429    0.617429    0.617429\n",
       " 0.209932    0.209932    0.209932       0.209932    0.209932    0.209932\n",
       " 0.0139409   0.0139409   0.0139409   …  0.0139409   0.0139409   0.0139409\n",
       " 0.626792    0.626792    0.626792       0.626792    0.626792    0.626792\n",
       " 0.828035    0.828035    0.828035       0.828035    0.828035    0.828035\n",
       " 0.759537    0.759537    0.759537       0.759537    0.759537    0.759537\n",
       " 0.00378155  0.00378155  0.00378155     0.00378155  0.00378155  0.00378155\n",
       " 0.866619    0.866619    0.866619    …  0.866619    0.866619    0.866619\n",
       " 0.445077    0.445077    0.445077       0.445077    0.445077    0.445077\n",
       " 0.432648    0.432648    0.432648       0.432648    0.432648    0.432648\n",
       " ⋮                                   ⋱                          \n",
       " 0.0788476   0.0788476   0.0788476      0.0788476   0.0788476   0.0788476\n",
       " 0.255706    0.255706    0.255706       0.255706    0.255706    0.255706\n",
       " 0.84332     0.84332     0.84332        0.84332     0.84332     0.84332\n",
       " 0.127644    0.127644    0.127644    …  0.127644    0.127644    0.127644\n",
       " 0.207521    0.207521    0.207521       0.207521    0.207521    0.207521\n",
       " 0.591673    0.591673    0.591673       0.591673    0.591673    0.591673\n",
       " 0.484181    0.484181    0.484181       0.484181    0.484181    0.484181\n",
       " 0.0559366   0.0559366   0.0559366      0.0559366   0.0559366   0.0559366\n",
       " 0.0432695   0.0432695   0.0432695   …  0.0432695   0.0432695   0.0432695\n",
       " 0.821483    0.821483    0.821483       0.821483    0.821483    0.821483\n",
       " 0.357065    0.357065    0.357065       0.357065    0.357065    0.357065\n",
       " 0.569694    0.569694    0.569694       0.569694    0.569694    0.569694"
      ]
     },
     "execution_count": 18,
     "metadata": {},
     "output_type": "execute_result"
    }
   ],
   "source": [
    "jucresult[1:99, 1]"
   ]
  },
  {
   "cell_type": "code",
   "execution_count": 16,
   "id": "fixed-modeling",
   "metadata": {},
   "outputs": [
    {
     "data": {
      "text/plain": [
       "99×99 Array{Float64,2}:\n",
       " 0.626653    0.331559   0.196573     …  0.00142707   4.49919e-7   0.0840266\n",
       " 0.423788    0.448207   0.0613929       0.552967     0.0179778    0.408914\n",
       " 0.456767    0.725417   0.0109171       0.65361      0.0175027    0.966689\n",
       " 0.61743     0.531565   0.00550506      0.122352     7.10107e-5   0.224221\n",
       " 0.209933    0.483162   0.023176        0.923178     0.636353     0.786854\n",
       " 0.0139411   0.0281532  0.120904     …  0.000559783  0.0186721    0.89146\n",
       " 0.626793    0.430577   0.00908082      0.00619864   1.03677e-5   0.380858\n",
       " 0.828036    0.891162   0.0583351       0.186957     0.0113238    0.212167\n",
       " 0.759537    0.410551   0.080064        0.365965     1.95733e-5   0.0140823\n",
       " 0.00378162  0.871401   0.328583        0.105253     0.825004     0.487983\n",
       " 0.866619    0.715931   0.463061     …  0.690922     0.0369716    0.135111\n",
       " 0.445078    0.98966    0.428138        0.77184      0.584713     0.669345\n",
       " 0.432648    0.321818   0.158662        0.304824     0.375296     0.176224\n",
       " ⋮                                   ⋱                            \n",
       " 0.078848    0.889491   0.0623751       0.625554     0.381362     0.933892\n",
       " 0.255707    0.317299   0.676085        0.274457     0.0114378    0.724534\n",
       " 0.84332     0.687286   0.00306039      0.774558     0.065804     0.164303\n",
       " 0.127644    0.207572   0.0056781    …  0.00705205   0.000530688  0.057847\n",
       " 0.207522    0.798892   0.000573798     0.0136485    0.00616824   0.572478\n",
       " 0.591673    0.87804    0.037718        0.958805     0.987791     0.681689\n",
       " 0.484182    0.896933   0.00376041      0.487073     0.0028638    0.0193225\n",
       " 0.0559371   0.358108   0.0101385       0.000118613  0.000823953  0.150362\n",
       " 0.0432698   0.852434   0.520361     …  0.294425     0.406989     0.849233\n",
       " 0.821483    0.428893   0.522004        0.576294     0.0971684    0.945646\n",
       " 0.357066    0.0515087  4.69495e-5      0.000199278  2.20331e-5   0.288893\n",
       " 0.569695    0.164683   0.328229        0.864845     0.199545     0.245043"
      ]
     },
     "execution_count": 16,
     "metadata": {},
     "output_type": "execute_result"
    }
   ],
   "source": [
    "pyp = convert(Matrix{Float64}, transpose(pyresult[2:100, 2:100]))"
   ]
  },
  {
   "cell_type": "markdown",
   "id": "known-architect",
   "metadata": {},
   "source": [
    "# Testing function with basic numbers. "
   ]
  },
  {
   "cell_type": "code",
   "execution_count": 25,
   "id": "detailed-monitor",
   "metadata": {},
   "outputs": [
    {
     "data": {
      "text/plain": [
       "pval_calc (generic function with 1 method)"
      ]
     },
     "execution_count": 25,
     "metadata": {},
     "output_type": "execute_result"
    }
   ],
   "source": [
    "function center_normalize(mat, dims=1)\n",
    "    newmat = mat .- mean(mat, dims=dims)\n",
    "    return newmat ./ sqrt.(sum(newmat.^2, dims=dims))\n",
    "end\n",
    "function calculate_r_tensor(geno, pheno; has_covar=false)\n",
    "    # remove mean from geno and pheno\n",
    "    if has_covar\n",
    "        pheno = pheno.mean(dims = 1) \n",
    "        geno = geno.mean(dims = 1)\n",
    "    end\n",
    "    return center_normalize(pheno, 1)' * center_normalize(geno, 1)\n",
    "end\n",
    "function pval_calc(corr, dof)\n",
    "    t = corr .* sqrt.(dof ./ (1 .- corr .^2))\n",
    "    pval = 2 .* cdf(TDist(dof), .-abs.(t))\n",
    "    return pval\n",
    "end"
   ]
  },
  {
   "cell_type": "code",
   "execution_count": 28,
   "id": "extra-springfield",
   "metadata": {},
   "outputs": [
    {
     "data": {
      "text/plain": [
       "4×3 Array{Float64,2}:\n",
       " 0.0  0.0  0.0\n",
       " 0.0  0.0  0.0\n",
       " 0.0  0.0  0.0\n",
       " 0.0  0.0  0.0"
      ]
     },
     "execution_count": 28,
     "metadata": {},
     "output_type": "execute_result"
    }
   ],
   "source": [
    "# Start with correlation matrix. This is just a random matrix. Nothing special\n",
    "geno = [0.1 0.2 0.3; 0.4 0.5 0.6]\n",
    "\n",
    "pheno = [1.1 2.2 3.3 4.4; 5.5 6.6 7.7 8.8]\n",
    "# Degree of freedom should be n - 1\n",
    "mydof = size(r, 1) - 1\n",
    "\n",
    "r = calculate_r_tensor(geno, pheno)\n",
    "pval = pval_calc(r, mydof)"
   ]
  },
  {
   "cell_type": "code",
   "execution_count": 34,
   "id": "spectacular-smooth",
   "metadata": {},
   "outputs": [
    {
     "name": "stdout",
     "output_type": "stream",
     "text": [
      "Corr:\n",
      "[0.1 0.2 0.3; 0.4 0.5 0.6]\n",
      "tstat:\n",
      "[0.17407765595569785 0.3535533905932738 0.5447047794019222; 0.7559289460184545 1.0 1.299038105676658]\n",
      "Pval:\n",
      "[0.8728885715695383 0.7470600781046619 0.6238376647810728; 0.5046315754686909 0.39100221895577053 0.28475697986529375]\n"
     ]
    },
    {
     "data": {
      "text/plain": [
       "2×3 Array{Float64,2}:\n",
       " 0.872889  0.74706   0.623838\n",
       " 0.504632  0.391002  0.284757"
      ]
     },
     "execution_count": 34,
     "metadata": {},
     "output_type": "execute_result"
    }
   ],
   "source": [
    "\n",
    "\n",
    "res = pval_calc(r, 3)\n"
   ]
  },
  {
   "cell_type": "code",
   "execution_count": null,
   "id": "atlantic-reality",
   "metadata": {},
   "outputs": [],
   "source": [
    "using StatsBase\n",
    "\n",
    "function getGenoidx(GenoData::Array{Float32,2}, maf_threshold::Float32=Float32(0.025)) \n",
    "#     print(\"---- mean/2: \")\n",
    "    af = mean(GenoData,dims=2)/2.0\n",
    "    maf = replace(x -> x > 0.5 ? 1-x : x, af)\n",
    "    return getindex.(findall(maf.>= maf_threshold),1) \n",
    "end\n",
    "\n",
    "function filter_maf(genotype::Array{Float32, 2})\n",
    "    alleles = 2\n",
    "    maf_threshold = Float32(0.05)\n",
    "    \n",
    "    af = sum(genotype, dims=2) ./ (alleles * size(genotype, 2))\n",
    "    maf = replace(x -> x > 0.5 ? 1-x : x, af)\n",
    "\n",
    "    if maf_threshold > 0 \n",
    "        mask = getindex.(findall(maf .>= maf_threshold), 1)\n",
    "        genotype = genotype[mask, :]\n",
    "    end\n",
    "    return genotype\n",
    "end\n",
    "\n",
    "genotype = convert(Matrix{Float32}, [0.04 0.05 0.06; 0.08 0.1 0.12])\n",
    "print(getGenoidx(genotype, 0.05f0))\n",
    "println(\"---- Starting filter_maf -----\")\n",
    "print(filter_maf(genotype))\n",
    "\n",
    "# print(genotype)\n",
    "# print(maf)\n",
    "\n",
    "filtered = getGenoidx(G_t, 0.05f0);\n",
    "filtered2 = filter_maf(G_t)\n",
    "print(size(filtered)) \n",
    "print(size(filtered2)) "
   ]
  },
  {
   "cell_type": "markdown",
   "id": "supposed-signature",
   "metadata": {},
   "source": [
    "### Graveyard. \n",
    "Functions that I tried but didn't work. Keeping them in here for now. Can be cleaned up anytime!"
   ]
  },
  {
   "cell_type": "code",
   "execution_count": 16,
   "id": "stuck-antique",
   "metadata": {},
   "outputs": [
    {
     "data": {
      "text/plain": [
       "1"
      ]
     },
     "execution_count": 16,
     "metadata": {},
     "output_type": "execute_result"
    }
   ],
   "source": [
    "# Saunak send me this function to convert \n",
    "function lod2p(lod)\n",
    "    mylod = 2*log(10)*lod\n",
    "    mycdf = cdf(Chisq(1), mylod)\n",
    "    print(mycdf)\n",
    "    return 1 .- mycdf\n",
    "end\n",
    "pval_l = lod2p(r)"
   ]
  },
  {
   "cell_type": "code",
   "execution_count": 17,
   "id": "friendly-sewing",
   "metadata": {},
   "outputs": [
    {
     "name": "stdout",
     "output_type": "stream",
     "text": [
      "[0.502617557044459 0.662796385726653 0.7601628772665022; 0.8252912503937563 0.870841121301594 0.9035389721707014]"
     ]
    },
    {
     "data": {
      "text/plain": [
       "2×3 Array{Float64,2}:\n",
       " 0.497382  0.337204  0.239837\n",
       " 0.174709  0.129159  0.096461"
      ]
     },
     "execution_count": 17,
     "metadata": {},
     "output_type": "execute_result"
    }
   ],
   "source": [
    "#TensorQTL version:\n",
    "function lod2p_t(lod)\n",
    "    2*stats.t.cdf(-np.abs(res[:,2].astype(np.float64)), dof)"
   ]
  },
  {
   "cell_type": "code",
   "execution_count": 18,
   "id": "medieval-sweden",
   "metadata": {},
   "outputs": [
    {
     "data": {
      "text/plain": [
       "2×3 Array{Float64,2}:\n",
       " 0.497382  0.337204  0.239837\n",
       " 0.174709  0.129159  0.096461"
      ]
     },
     "execution_count": 18,
     "metadata": {},
     "output_type": "execute_result"
    }
   ],
   "source": [
    "ans"
   ]
  },
  {
   "cell_type": "code",
   "execution_count": 14,
   "id": "operating-checklist",
   "metadata": {},
   "outputs": [
    {
     "ename": "LoadError",
     "evalue": "\u001b[91mMethodError: no method matching cdf(::Array{Float64,1}, ::Int64)\u001b[39m\n\u001b[91m\u001b[0mClosest candidates are:\u001b[39m\n\u001b[91m\u001b[0m  cdf(\u001b[91m::DiscreteUniform\u001b[39m, ::Int64) at /home/xiaoqihu/.julia/packages/Distributions/cNe2C/src/univariate/discrete/discreteuniform.jl:73\u001b[39m\n\u001b[91m\u001b[0m  cdf(\u001b[91m::Hypergeometric\u001b[39m, ::Int64) at /home/xiaoqihu/.julia/packages/Distributions/cNe2C/src/univariates.jl:550\u001b[39m\n\u001b[91m\u001b[0m  cdf(\u001b[91m::Chernoff\u001b[39m, ::Real) at /home/xiaoqihu/.julia/packages/Distributions/cNe2C/src/univariate/continuous/chernoff.jl:170\u001b[39m\n\u001b[91m\u001b[0m  ...\u001b[39m",
     "output_type": "error",
     "traceback": [
      "\u001b[91mMethodError: no method matching cdf(::Array{Float64,1}, ::Int64)\u001b[39m\n\u001b[91m\u001b[0mClosest candidates are:\u001b[39m\n\u001b[91m\u001b[0m  cdf(\u001b[91m::DiscreteUniform\u001b[39m, ::Int64) at /home/xiaoqihu/.julia/packages/Distributions/cNe2C/src/univariate/discrete/discreteuniform.jl:73\u001b[39m\n\u001b[91m\u001b[0m  cdf(\u001b[91m::Hypergeometric\u001b[39m, ::Int64) at /home/xiaoqihu/.julia/packages/Distributions/cNe2C/src/univariates.jl:550\u001b[39m\n\u001b[91m\u001b[0m  cdf(\u001b[91m::Chernoff\u001b[39m, ::Real) at /home/xiaoqihu/.julia/packages/Distributions/cNe2C/src/univariate/continuous/chernoff.jl:170\u001b[39m\n\u001b[91m\u001b[0m  ...\u001b[39m",
      "",
      "Stacktrace:",
      " [1] top-level scope at In[14]:2",
      " [2] include_string(::Function, ::Module, ::String, ::String) at ./loading.jl:1091"
     ]
    }
   ],
   "source": [
    "# LiteQTL version: \n",
    "cdf(r[:, 1], dof)"
   ]
  },
  {
   "cell_type": "code",
   "execution_count": null,
   "id": "modern-shoulder",
   "metadata": {},
   "outputs": [],
   "source": []
  }
 ],
 "metadata": {
  "kernelspec": {
   "display_name": "Julia (32 threads) 1.5.3",
   "language": "julia",
   "name": "julia-(32-threads)-1.5"
  },
  "language_info": {
   "file_extension": ".jl",
   "mimetype": "application/julia",
   "name": "julia",
   "version": "1.5.3"
  }
 },
 "nbformat": 4,
 "nbformat_minor": 5
}
